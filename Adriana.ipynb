{
  "metadata": {
    "language_info": {
      "codemirror_mode": {
        "name": "python",
        "version": 3
      },
      "file_extension": ".py",
      "mimetype": "text/x-python",
      "name": "python",
      "nbconvert_exporter": "python",
      "pygments_lexer": "ipython3",
      "version": "3.8"
    },
    "kernelspec": {
      "name": "python",
      "display_name": "Pyolite",
      "language": "python"
    }
  },
  "nbformat_minor": 4,
  "nbformat": 4,
  "cells": [
    {
      "cell_type": "markdown",
      "source": "#\"My Jupyter Notebook on IBM Watson Studio\"",
      "metadata": {}
    },
    {
      "cell_type": "markdown",
      "source": "**Adriana**\nData Scientist",
      "metadata": {}
    },
    {
      "cell_type": "markdown",
      "source": "_I am interested in data science because I like learning new skills and working with data_",
      "metadata": {}
    },
    {
      "cell_type": "code",
      "source": "1+1",
      "metadata": {
        "trusted": true
      },
      "execution_count": 3,
      "outputs": [
        {
          "execution_count": 3,
          "output_type": "execute_result",
          "data": {
            "text/plain": "2"
          },
          "metadata": {}
        }
      ]
    },
    {
      "cell_type": "markdown",
      "source": "[This is a link to Coursera](https://www.coursera.org/learn/open-source-tools-for-data-science/lecture/9jW96/other-languages)",
      "metadata": {}
    },
    {
      "cell_type": "markdown",
      "source": "![image of a rose](https://www.google.com/search?q=rose&sxsrf=ALiCzsaHCojOHflXjnn23JneBOrbF19fuA:1664842572000&source=lnms&tbm=isch&sa=X&ved=2ahUKEwiqmvHwpcX6AhVjbTABHRNQD5YQ_AUoAXoECAIQAw&biw=1490&bih=754&dpr=1.25#imgrc=lLmCy0vXd5srPM)",
      "metadata": {}
    },
    {
      "cell_type": "markdown",
      "source": "1. Monday\n1. Tuesday\n1. Wednesday\n1. Thursday\n1. Friday",
      "metadata": {}
    },
    {
      "cell_type": "code",
      "source": "",
      "metadata": {},
      "execution_count": null,
      "outputs": []
    }
  ]
}